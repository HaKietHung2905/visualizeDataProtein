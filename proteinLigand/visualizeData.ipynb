{
 "cells": [
  {
   "cell_type": "code",
   "execution_count": 3,
   "metadata": {},
   "outputs": [
    {
     "name": "stdout",
     "output_type": "stream",
     "text": [
      "Collecting deepchem\n",
      "  Using cached deepchem-2.7.1-py3-none-any.whl (693 kB)\n",
      "Requirement already satisfied: joblib in /Users/hung/anaconda3/envs/proteinLigand/lib/python3.8/site-packages (from deepchem) (1.3.2)\n",
      "Requirement already satisfied: numpy>=1.21 in /Users/hung/anaconda3/envs/proteinLigand/lib/python3.8/site-packages (from deepchem) (1.23.5)\n",
      "Requirement already satisfied: pandas in /Users/hung/anaconda3/envs/proteinLigand/lib/python3.8/site-packages (from deepchem) (2.0.3)\n",
      "Requirement already satisfied: scikit-learn in /Users/hung/anaconda3/envs/proteinLigand/lib/python3.8/site-packages (from deepchem) (1.3.2)\n",
      "Requirement already satisfied: scipy<1.9 in /Users/hung/anaconda3/envs/proteinLigand/lib/python3.8/site-packages (from deepchem) (1.8.1)\n",
      "Requirement already satisfied: rdkit in /Users/hung/anaconda3/envs/proteinLigand/lib/python3.8/site-packages (from deepchem) (2023.9.3)\n",
      "Requirement already satisfied: python-dateutil>=2.8.2 in /Users/hung/anaconda3/envs/proteinLigand/lib/python3.8/site-packages (from pandas->deepchem) (2.8.2)\n",
      "Requirement already satisfied: pytz>=2020.1 in /Users/hung/anaconda3/envs/proteinLigand/lib/python3.8/site-packages (from pandas->deepchem) (2023.3.post1)\n",
      "Requirement already satisfied: tzdata>=2022.1 in /Users/hung/anaconda3/envs/proteinLigand/lib/python3.8/site-packages (from pandas->deepchem) (2023.3)\n",
      "Requirement already satisfied: Pillow in /Users/hung/anaconda3/envs/proteinLigand/lib/python3.8/site-packages (from rdkit->deepchem) (10.1.0)\n",
      "Requirement already satisfied: threadpoolctl>=2.0.0 in /Users/hung/anaconda3/envs/proteinLigand/lib/python3.8/site-packages (from scikit-learn->deepchem) (3.2.0)\n",
      "Requirement already satisfied: six>=1.5 in /Users/hung/anaconda3/envs/proteinLigand/lib/python3.8/site-packages (from python-dateutil>=2.8.2->pandas->deepchem) (1.16.0)\n",
      "Installing collected packages: deepchem\n",
      "Successfully installed deepchem-2.7.1\n"
     ]
    }
   ],
   "source": [
    "! pip install deepchem"
   ]
  },
  {
   "cell_type": "code",
   "execution_count": 15,
   "metadata": {},
   "outputs": [
    {
     "name": "stdout",
     "output_type": "stream",
     "text": [
      "Collecting package metadata (current_repodata.json): done\n",
      "Solving environment: done\n",
      "\n",
      "\n",
      "==> WARNING: A newer version of conda exists. <==\n",
      "  current version: 23.7.4\n",
      "  latest version: 23.11.0\n",
      "\n",
      "Please update conda by running\n",
      "\n",
      "    $ conda update -n base -c defaults conda\n",
      "\n",
      "Or to minimize the number of packages updated during conda update use\n",
      "\n",
      "     conda install conda=23.11.0\n",
      "\n",
      "\n",
      "\n",
      "# All requested packages already installed.\n",
      "\n"
     ]
    }
   ],
   "source": [
    "! conda install -c conda-forge pdbfixer"
   ]
  },
  {
   "cell_type": "code",
   "execution_count": 16,
   "metadata": {},
   "outputs": [
    {
     "name": "stdout",
     "output_type": "stream",
     "text": [
      "Collecting package metadata (current_repodata.json): done\n",
      "Solving environment: done\n",
      "\n",
      "\n",
      "==> WARNING: A newer version of conda exists. <==\n",
      "  current version: 23.7.4\n",
      "  latest version: 23.11.0\n",
      "\n",
      "Please update conda by running\n",
      "\n",
      "    $ conda update -n base -c defaults conda\n",
      "\n",
      "Or to minimize the number of packages updated during conda update use\n",
      "\n",
      "     conda install conda=23.11.0\n",
      "\n",
      "\n",
      "\n",
      "# All requested packages already installed.\n",
      "\n"
     ]
    }
   ],
   "source": [
    "! conda install -c conda-forge vina"
   ]
  },
  {
   "cell_type": "code",
   "execution_count": 15,
   "metadata": {},
   "outputs": [],
   "source": [
    "! pip install -q mdtraj nglview\n",
    "# !jupyter-nbextension enable nglview --py --sys-prefix  # for jupyter notebook\n",
    "# !jupyter labextension install  nglview-js-widgets  # for jupyter lab"
   ]
  },
  {
   "cell_type": "code",
   "execution_count": 5,
   "metadata": {},
   "outputs": [],
   "source": [
    "import os\n",
    "import numpy as np\n",
    "import pandas as pd\n",
    "\n",
    "import tempfile\n",
    "\n",
    "from rdkit import Chem\n",
    "from rdkit.Chem import AllChem\n",
    "import deepchem as dc\n",
    "\n",
    "from deepchem.utils import download_url, load_from_disk"
   ]
  },
  {
   "cell_type": "code",
   "execution_count": 6,
   "metadata": {},
   "outputs": [],
   "source": [
    "data_dir = dc.utils.get_data_dir()\n",
    "dataset_file = os.path.join(data_dir, \"pdbbind_core_df.csv.gz\")\n",
    "\n",
    "if not os.path.exists(dataset_file):\n",
    "    print('File does not exist. Downloading file...')\n",
    "    download_url(\"https://s3-us-west-1.amazonaws.com/deepchem.io/datasets/pdbbind_core_df.csv.gz\")\n",
    "    print('File downloaded...')\n",
    "\n",
    "raw_dataset = load_from_disk(dataset_file)\n",
    "raw_dataset = raw_dataset[['pdb_id', 'smiles', 'label']]"
   ]
  },
  {
   "cell_type": "code",
   "execution_count": 7,
   "metadata": {},
   "outputs": [
    {
     "data": {
      "text/html": [
       "<div>\n",
       "<style scoped>\n",
       "    .dataframe tbody tr th:only-of-type {\n",
       "        vertical-align: middle;\n",
       "    }\n",
       "\n",
       "    .dataframe tbody tr th {\n",
       "        vertical-align: top;\n",
       "    }\n",
       "\n",
       "    .dataframe thead th {\n",
       "        text-align: right;\n",
       "    }\n",
       "</style>\n",
       "<table border=\"1\" class=\"dataframe\">\n",
       "  <thead>\n",
       "    <tr style=\"text-align: right;\">\n",
       "      <th></th>\n",
       "      <th>pdb_id</th>\n",
       "      <th>smiles</th>\n",
       "      <th>label</th>\n",
       "    </tr>\n",
       "  </thead>\n",
       "  <tbody>\n",
       "    <tr>\n",
       "      <th>0</th>\n",
       "      <td>2d3u</td>\n",
       "      <td>CC1CCCCC1S(O)(O)NC1CC(C2CCC(CN)CC2)SC1C(O)O</td>\n",
       "      <td>6.92</td>\n",
       "    </tr>\n",
       "    <tr>\n",
       "      <th>1</th>\n",
       "      <td>3cyx</td>\n",
       "      <td>CC(C)(C)NC(O)C1CC2CCCCC2C[NH+]1CC(O)C(CC1CCCCC...</td>\n",
       "      <td>8.00</td>\n",
       "    </tr>\n",
       "  </tbody>\n",
       "</table>\n",
       "</div>"
      ],
      "text/plain": [
       "  pdb_id                                             smiles  label\n",
       "0   2d3u        CC1CCCCC1S(O)(O)NC1CC(C2CCC(CN)CC2)SC1C(O)O   6.92\n",
       "1   3cyx  CC(C)(C)NC(O)C1CC2CCCCC2C[NH+]1CC(O)C(CC1CCCCC...   8.00"
      ]
     },
     "execution_count": 7,
     "metadata": {},
     "output_type": "execute_result"
    }
   ],
   "source": [
    "raw_dataset.head(2)"
   ]
  },
  {
   "cell_type": "code",
   "execution_count": 8,
   "metadata": {},
   "outputs": [],
   "source": [
    "from openmm.app import PDBFile\n",
    "from pdbfixer import PDBFixer\n",
    "\n",
    "from deepchem.utils.vina_utils import prepare_inputs"
   ]
  },
  {
   "cell_type": "code",
   "execution_count": 9,
   "metadata": {},
   "outputs": [],
   "source": [
    "# consider one protein-ligand complex for visualization\n",
    "pdbid = raw_dataset['pdb_id'].iloc[1]\n",
    "ligand = raw_dataset['smiles'].iloc[1]"
   ]
  },
  {
   "cell_type": "code",
   "execution_count": 10,
   "metadata": {},
   "outputs": [
    {
     "name": "stderr",
     "output_type": "stream",
     "text": [
      "<timed exec>:7: DeprecationWarning: Call to deprecated function prepare_inputs. Please use the corresponding function in deepchem.utils.docking_utils.\n",
      "Warning: importing 'simtk.openmm' is deprecated.  Import 'openmm' instead.\n"
     ]
    },
    {
     "name": "stdout",
     "output_type": "stream",
     "text": [
      "3cyx 1510\n",
      "CPU times: user 1.09 s, sys: 74.4 ms, total: 1.16 s\n",
      "Wall time: 3.96 s\n"
     ]
    }
   ],
   "source": [
    "%%time\n",
    "fixer = PDBFixer(pdbid=pdbid)\n",
    "PDBFile.writeFile(fixer.topology, fixer.positions, open('%s.pdb' % (pdbid), 'w'))\n",
    "\n",
    "p, m = None, None\n",
    "# fix protein, optimize ligand geometry, and sanitize molecules\n",
    "try:\n",
    "    p, m = prepare_inputs('%s.pdb' % (pdbid), ligand)\n",
    "except:\n",
    "    print('%s failed PDB fixing' % (pdbid)) \n",
    "\n",
    "if p and m:  # protein and molecule are readable by RDKit\n",
    "    print(pdbid, p.GetNumAtoms())\n",
    "    Chem.rdmolfiles.MolToPDBFile(p, '%s.pdb' % (pdbid))\n",
    "    Chem.rdmolfiles.MolToPDBFile(m, 'ligand_%s.pdb' % (pdbid))"
   ]
  },
  {
   "cell_type": "code",
   "execution_count": 11,
   "metadata": {},
   "outputs": [
    {
     "data": {
      "application/vnd.jupyter.widget-view+json": {
       "model_id": "0283ab842da1454b89666c873c0f3eda",
       "version_major": 2,
       "version_minor": 0
      },
      "text/plain": []
     },
     "metadata": {},
     "output_type": "display_data"
    }
   ],
   "source": [
    "import mdtraj as md\n",
    "import nglview\n",
    "\n",
    "from IPython.display import display, Image"
   ]
  },
  {
   "cell_type": "code",
   "execution_count": 12,
   "metadata": {},
   "outputs": [],
   "source": [
    "protein_mdtraj = md.load_pdb('3cyx.pdb')\n",
    "ligand_mdtraj = md.load_pdb('ligand_3cyx.pdb')"
   ]
  },
  {
   "cell_type": "code",
   "execution_count": 13,
   "metadata": {},
   "outputs": [],
   "source": [
    "v = nglview.show_mdtraj(ligand_mdtraj)"
   ]
  },
  {
   "cell_type": "code",
   "execution_count": 14,
   "metadata": {},
   "outputs": [
    {
     "data": {
      "application/vnd.jupyter.widget-view+json": {
       "model_id": "f005b90e310e4696b77a2fd7759e1f1a",
       "version_major": 2,
       "version_minor": 0
      },
      "text/plain": [
       "NGLWidget()"
      ]
     },
     "metadata": {},
     "output_type": "display_data"
    }
   ],
   "source": [
    "display(v)  # interactive view outside Colab"
   ]
  },
  {
   "cell_type": "code",
   "execution_count": 16,
   "metadata": {},
   "outputs": [
    {
     "data": {
      "application/vnd.jupyter.widget-view+json": {
       "model_id": "495711d012fb4cb78204a7fad3be0b3e",
       "version_major": 2,
       "version_minor": 0
      },
      "text/plain": [
       "NGLWidget()"
      ]
     },
     "metadata": {},
     "output_type": "display_data"
    }
   ],
   "source": [
    "view = nglview.show_mdtraj(protein_mdtraj)\n",
    "display(view)  # interactive view outside Colab"
   ]
  }
 ],
 "metadata": {
  "kernelspec": {
   "display_name": "proteinLigand",
   "language": "python",
   "name": "python3"
  },
  "language_info": {
   "codemirror_mode": {
    "name": "ipython",
    "version": 3
   },
   "file_extension": ".py",
   "mimetype": "text/x-python",
   "name": "python",
   "nbconvert_exporter": "python",
   "pygments_lexer": "ipython3",
   "version": "3.8.18"
  }
 },
 "nbformat": 4,
 "nbformat_minor": 2
}
